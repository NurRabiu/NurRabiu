{
  "nbformat": 4,
  "nbformat_minor": 0,
  "metadata": {
    "colab": {
      "provenance": []
    },
    "kernelspec": {
      "name": "python3",
      "display_name": "Python 3"
    },
    "language_info": {
      "name": "python"
    }
  },
  "cells": [
    {
      "cell_type": "markdown",
      "source": [
        "**Arewa Data Science Academy**\n",
        "\n",
        "Deep Learning Cohort1.0\n",
        "Name: Nur Bala Rabiu\n",
        "Email: nurbalarabiu24@gmail.com\n",
        "title: Week 1 Solution"
      ],
      "metadata": {
        "id": "80GQ9zFB40b4"
      }
    },
    {
      "cell_type": "code",
      "source": [],
      "metadata": {
        "id": "X1Ro1-X_5r8y"
      },
      "execution_count": null,
      "outputs": []
    },
    {
      "cell_type": "code",
      "execution_count": 14,
      "metadata": {
        "colab": {
          "base_uri": "https://localhost:8080/",
          "height": 35
        },
        "outputId": "a4ec6b08-1795-4143-a885-dbc6ec84de98",
        "id": "SBZHua1e5wVx"
      },
      "outputs": [
        {
          "output_type": "execute_result",
          "data": {
            "text/plain": [
              "'2.5.1+cu121'"
            ],
            "application/vnd.google.colaboratory.intrinsic+json": {
              "type": "string"
            }
          },
          "metadata": {},
          "execution_count": 14
        }
      ],
      "source": [
        "#Arewa Data Science\n",
        "import torch\n",
        "torch.__version__"
      ]
    },
    {
      "cell_type": "code",
      "source": [
        "#2 Create a random tensor with shape (7, 7).\n",
        "random_tensor = torch.rand(7,7)\n",
        "random_tensor"
      ],
      "metadata": {
        "colab": {
          "base_uri": "https://localhost:8080/"
        },
        "id": "GdG9Ban5oJpX",
        "outputId": "6e623797-3922-420e-d11e-99ad664abab8"
      },
      "execution_count": 15,
      "outputs": [
        {
          "output_type": "execute_result",
          "data": {
            "text/plain": [
              "tensor([[0.8829, 0.4132, 0.7572, 0.6948, 0.5209, 0.5932, 0.8797],\n",
              "        [0.6286, 0.7653, 0.1132, 0.8559, 0.6721, 0.6267, 0.5691],\n",
              "        [0.7437, 0.9592, 0.3887, 0.2214, 0.3742, 0.1953, 0.7405],\n",
              "        [0.2529, 0.2332, 0.9314, 0.9575, 0.5575, 0.4134, 0.4355],\n",
              "        [0.7369, 0.0331, 0.0914, 0.8994, 0.9936, 0.4703, 0.1049],\n",
              "        [0.5137, 0.2674, 0.4990, 0.7447, 0.7213, 0.4414, 0.5550],\n",
              "        [0.6361, 0.1081, 0.3305, 0.5196, 0.2147, 0.2816, 0.6679]])"
            ]
          },
          "metadata": {},
          "execution_count": 15
        }
      ]
    },
    {
      "cell_type": "code",
      "source": [
        "#3 Perform a matrix multiplication on the tensor from 2 with another random tensor with shape (1,7) (hint:you may have to transpose the second tensor).\n",
        "#3 Perform a matrix multiplication on the tensor from 2 with another random tensor with shape (1,7) (hint:you may have to transpose the second tensor).\n",
        "random_tensor2 = torch.rand(1,7)\n",
        "random_tensor3 = torch.matmul(random_tensor, random_tensor2.T)\n",
        "print(\"Matrix multiplication of two tensor:\", random_tensor3)"
      ],
      "metadata": {
        "colab": {
          "base_uri": "https://localhost:8080/"
        },
        "id": "bmlf5WSprVjC",
        "outputId": "8cf9c1d6-a845-4b7e-ab87-15d6ed755617"
      },
      "execution_count": 16,
      "outputs": [
        {
          "output_type": "stream",
          "name": "stdout",
          "text": [
            "Matrix multiplication of two tensor: tensor([[2.8734],\n",
            "        [2.5246],\n",
            "        [2.2411],\n",
            "        [2.0501],\n",
            "        [1.8275],\n",
            "        [2.1401],\n",
            "        [1.8642]])\n"
          ]
        }
      ]
    },
    {
      "cell_type": "code",
      "source": [
        "#4. Set the random seed to 0 and do 2 & 3 over again.\n",
        "\n",
        "\n",
        "\n",
        "# # Set the random seed\n",
        "RANDOM_SEED=0 # try changing this to different values and see what happens to the numbers below\n",
        "torch.manual_seed(seed=RANDOM_SEED)\n",
        "random_tensor_1 = torch.rand(7, 7)\n",
        "\n",
        "# Have to reset the seed every time a new rand() is called\n",
        "# Without this, tensor_D would be different to tensor_C\n",
        "torch.random.manual_seed(seed=RANDOM_SEED) # try commenting this line out and seeing what happens\n",
        "random_tensor_2 = torch.rand(1, 7)\n",
        "random_tensor3 = torch.matmul(random_tensor_1, random_tensor_2.T)\n",
        "print(\"Matrix multiplication of two tensor:\", random_tensor3, random_tensor3.shape)"
      ],
      "metadata": {
        "colab": {
          "base_uri": "https://localhost:8080/"
        },
        "id": "57NnfQ54yqbY",
        "outputId": "b3b9c9df-073c-4b21-8965-d83d20a2e898"
      },
      "execution_count": 17,
      "outputs": [
        {
          "output_type": "stream",
          "name": "stdout",
          "text": [
            "Matrix multiplication of two tensor: tensor([[1.5985],\n",
            "        [1.1173],\n",
            "        [1.2741],\n",
            "        [1.6838],\n",
            "        [0.8279],\n",
            "        [1.0347],\n",
            "        [1.2498]]) torch.Size([7, 1])\n"
          ]
        }
      ]
    },
    {
      "cell_type": "code",
      "source": [
        "#5. Speaking of random seeds, we saw how to set it with torch.manual_seed() but is there a GPU equivalent? (hint: you'll need to look into the documentation for torch.cuda for this one)\n",
        "# Check for GPU\n",
        "import torch\n",
        "torch.cuda.is_available()\n",
        "\n",
        "# Set random seed for GPU\n",
        "torch.manual_seed(1234)\n",
        "if torch.cuda.is_available():\n",
        "    device = \"CUDA\" # Use NVIDIA GPU (if available)\n",
        "elif torch.backends.mps.is_available():\n",
        "    device = \"MPS\" # Use Apple Silicon GPU (if available)\n",
        "else:\n",
        "    device = \"CPU\" # Default to CPU if no GPU is available\n",
        "print(\"The device is\", device)"
      ],
      "metadata": {
        "colab": {
          "base_uri": "https://localhost:8080/"
        },
        "id": "zsyrm_VCyt1y",
        "outputId": "372b07da-0f77-442d-e6ee-af471f4e853f"
      },
      "execution_count": 18,
      "outputs": [
        {
          "output_type": "stream",
          "name": "stdout",
          "text": [
            "The device is CPU\n"
          ]
        }
      ]
    },
    {
      "cell_type": "code",
      "source": [
        "# 6. Create two random tensors of shape (2, 3) and send them both to the GPU (you'll need access to a GPU for this). Set torch.manual_seed(1234) when creating the tensors (this doesn't have to be the GPU random seed). The output should be something like:\n",
        "\n",
        "# Set random seed for GPU\n",
        "torch.manual_seed(1234)\n",
        "# Check if CUDA is available\n",
        "device = torch.device('cuda' if torch.cuda.is_available() else 'cpu')\n",
        "print(f\"Using device: {device}\")\n",
        "\n",
        "# Create two random tensors directly on GPU\n",
        "tensor1 = torch.rand(2, 3, device=device)\n",
        "tensor2 = torch.randn(2, 3, device=device)\n",
        "\n",
        "print(\"Tensors 1 & 2:\", tensor1, tensor2)"
      ],
      "metadata": {
        "colab": {
          "base_uri": "https://localhost:8080/"
        },
        "id": "AKI8Shecy_Mn",
        "outputId": "a9488707-b36b-4005-c941-f0f940f44533"
      },
      "execution_count": 19,
      "outputs": [
        {
          "output_type": "stream",
          "name": "stdout",
          "text": [
            "Using device: cpu\n",
            "Tensors 1 & 2: tensor([[0.0290, 0.4019, 0.2598],\n",
            "        [0.3666, 0.0583, 0.7006]]) tensor([[-0.8545,  0.5098, -0.0821],\n",
            "        [ 0.6607,  0.0785,  0.7884]])\n"
          ]
        }
      ]
    },
    {
      "cell_type": "code",
      "source": [
        "#7 Perform matrix multiplication on tensors you created in 6\n",
        "# Ensure random seeds are set\n",
        "torch.manual_seed(1234)\n",
        "if torch.cuda.is_available():\n",
        "    torch.cuda.manual_seed(1234)\n",
        "\n",
        "# Device setup\n",
        "device = torch.device('cuda' if torch.cuda.is_available() else 'cpu')\n",
        "\n",
        "# Create tensors on GPU\n",
        "tensor1 = torch.rand(3, 4, device=device)\n",
        "tensor2 = torch.rand(4, 2, device=device)\n",
        "\n",
        "# Perform matrix multiplication\n",
        "result = torch.matmul(tensor1, tensor2)\n",
        "\n",
        "print(\"\\nResult:\", result)\n",
        "print(\"Result shape:\", result.shape)"
      ],
      "metadata": {
        "colab": {
          "base_uri": "https://localhost:8080/"
        },
        "id": "9TFIzJB1zTem",
        "outputId": "8827a6e8-5240-42ce-bf60-ed395ddd4b2b"
      },
      "execution_count": 20,
      "outputs": [
        {
          "output_type": "stream",
          "name": "stdout",
          "text": [
            "\n",
            "Result: tensor([[0.2959, 0.7365],\n",
            "        [0.3673, 0.9019],\n",
            "        [0.9714, 1.7055]])\n",
            "Result shape: torch.Size([3, 2])\n"
          ]
        }
      ]
    },
    {
      "cell_type": "code",
      "source": [
        "#8 Find maximum and minimum values of the output of 7\n",
        "\n",
        "print(\"Tensor 1 - Max:\", tensor1.max())\n",
        "print(\"Tensor 2 - Max:\", tensor2.max())\n",
        "# Find min\n",
        "print(\"Tensor 1 - Min:\", tensor1.min())\n",
        "print(\"Tensor 2 - Min:\", tensor2.min())"
      ],
      "metadata": {
        "colab": {
          "base_uri": "https://localhost:8080/"
        },
        "id": "XGgW-STvze_l",
        "outputId": "6f34e702-5747-439f-fb88-f4fbdc8ea0fc"
      },
      "execution_count": 21,
      "outputs": [
        {
          "output_type": "stream",
          "name": "stdout",
          "text": [
            "Tensor 1 - Max: tensor(0.7837)\n",
            "Tensor 2 - Max: tensor(0.8208)\n",
            "Tensor 1 - Min: tensor(0.0290)\n",
            "Tensor 2 - Min: tensor(0.2388)\n"
          ]
        }
      ]
    },
    {
      "cell_type": "code",
      "source": [
        "#9 Find the maximum and minimum index values of the output of 7\n",
        "\n",
        "print(\"Tensor 1 - Max:\", tensor1.argmax())\n",
        "print(\"Tensor 2 - Max:\", tensor2.argmax())\n",
        "\n",
        "# Find arg min\n",
        "print(\"Tensor 1 - Min:\", tensor1.min())\n",
        "print(\"Tensor 2 - Min:\", tensor2.min())"
      ],
      "metadata": {
        "colab": {
          "base_uri": "https://localhost:8080/"
        },
        "id": "00_J_EjXzlOH",
        "outputId": "11f1cc4a-1ebd-4871-9fb5-77c4ef41987a"
      },
      "execution_count": 22,
      "outputs": [
        {
          "output_type": "stream",
          "name": "stdout",
          "text": [
            "Tensor 1 - Max: tensor(10)\n",
            "Tensor 2 - Max: tensor(1)\n",
            "Tensor 1 - Min: tensor(0.0290)\n",
            "Tensor 2 - Min: tensor(0.2388)\n"
          ]
        }
      ]
    },
    {
      "cell_type": "code",
      "source": [
        "#10 Make a random tensor with shape(1, 1, 1, 10) and then create a new tensor with all the 1 dimensions removed to be left with a tensor of shape (10). Set the seed to 7 when you create it and print out the first tensor and its shape as well as the second tensor and its shape\n",
        "# Set seed\n",
        "torch.manual_seed(7)\n",
        "\n",
        "# Create random tensor\n",
        "tensorA = torch.rand(1, 1, 1, 10)\n",
        "tensorB = torch.rand(1, 10, 1)\n",
        "# Remove single dimensions\n",
        "squeezed_tensor = tensorB.squeeze()\n",
        "\n",
        "# Print out tensors and their shapes\n",
        "print(\"Tensor A\", tensorA)\n",
        "print(\"Tensor B Original\", tensorB)\n",
        "print(\"New Tensor B after Remove single dimensions\", squeezed_tensor)\n",
        "print(\"Tensor A Shape \", tensorA)\n",
        "print(\"Tensor B Shape\", tensorB)"
      ],
      "metadata": {
        "colab": {
          "base_uri": "https://localhost:8080/"
        },
        "id": "93HYldXdzuSY",
        "outputId": "1019403c-b5ff-43fc-b879-b109b226dbba"
      },
      "execution_count": 23,
      "outputs": [
        {
          "output_type": "stream",
          "name": "stdout",
          "text": [
            "Tensor A tensor([[[[0.5349, 0.1988, 0.6592, 0.6569, 0.2328, 0.4251, 0.2071, 0.6297,\n",
            "           0.3653, 0.8513]]]])\n",
            "Tensor B Original tensor([[[0.8549],\n",
            "         [0.5509],\n",
            "         [0.2868],\n",
            "         [0.2063],\n",
            "         [0.4451],\n",
            "         [0.3593],\n",
            "         [0.7204],\n",
            "         [0.0731],\n",
            "         [0.9699],\n",
            "         [0.1078]]])\n",
            "New Tensor B after Remove single dimensions tensor([0.8549, 0.5509, 0.2868, 0.2063, 0.4451, 0.3593, 0.7204, 0.0731, 0.9699,\n",
            "        0.1078])\n",
            "Tensor A Shape  tensor([[[[0.5349, 0.1988, 0.6592, 0.6569, 0.2328, 0.4251, 0.2071, 0.6297,\n",
            "           0.3653, 0.8513]]]])\n",
            "Tensor B Shape tensor([[[0.8549],\n",
            "         [0.5509],\n",
            "         [0.2868],\n",
            "         [0.2063],\n",
            "         [0.4451],\n",
            "         [0.3593],\n",
            "         [0.7204],\n",
            "         [0.0731],\n",
            "         [0.9699],\n",
            "         [0.1078]]])\n"
          ]
        }
      ]
    },
    {
      "cell_type": "markdown",
      "source": [],
      "metadata": {
        "id": "XbIkZU6W0MBk"
      }
    },
    {
      "cell_type": "markdown",
      "source": [],
      "metadata": {
        "id": "8m9r_E5t0TBa"
      }
    }
  ]
}